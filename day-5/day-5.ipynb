{
 "cells": [
  {
   "cell_type": "code",
   "execution_count": 65,
   "id": "99fae404",
   "metadata": {},
   "outputs": [
    {
     "name": "stdout",
     "output_type": "stream",
     "text": [
      "1 R\n",
      "2 T\n",
      "3 G\n",
      "4 W\n",
      "5 Z\n",
      "6 T\n",
      "7 H\n",
      "8 L\n",
      "9 D\n"
     ]
    }
   ],
   "source": [
    "from collections import deque \n",
    "\n",
    "with open('input.txt', encoding=\"utf-8\") as f:\n",
    "    read_data = f.read()\n",
    "    \n",
    "    rows = read_data.splitlines()\n",
    "        \n",
    "    stacks = {}\n",
    "    \n",
    "    for row in rows:\n",
    "        \n",
    "        if \"[\" in row:\n",
    "            for index, char in enumerate(row):\n",
    "                if (not (char == '[' or char == ']' or char == ' ')):\n",
    "                    stack_index = (index-1)//4 + 1\n",
    "                    if (str(stack_index) not in stacks):\n",
    "                        stacks[str(stack_index)] = deque([])\n",
    "                    stacks[str(stack_index)].appendleft(char)\n",
    "        elif 'move' in row:\n",
    "            row_split = row.split(' ')\n",
    "            from_stack = row_split[3]\n",
    "            to_stack = row_split[5]\n",
    "            quantity = row_split[1]\n",
    "            for i in range(int(quantity)):\n",
    "                stacks[to_stack].append(stacks[from_stack].pop())\n",
    "    \n",
    "    for i in range(len(stacks)):\n",
    "        stack_key = str(i + 1)\n",
    "        print(stack_key, stacks[stack_key][-1])\n",
    "                        \n",
    "            "
   ]
  },
  {
   "cell_type": "code",
   "execution_count": 69,
   "id": "0593aca6",
   "metadata": {},
   "outputs": [
    {
     "name": "stdout",
     "output_type": "stream",
     "text": [
      "1 S\n",
      "2 T\n",
      "3 H\n",
      "4 G\n",
      "5 R\n",
      "6 Z\n",
      "7 Z\n",
      "8 F\n",
      "9 R\n"
     ]
    }
   ],
   "source": [
    "from collections import deque \n",
    "\n",
    "with open('input.txt', encoding=\"utf-8\") as f:\n",
    "    read_data = f.read()\n",
    "    \n",
    "    rows = read_data.splitlines()\n",
    "        \n",
    "    stacks = {}\n",
    "    \n",
    "    for row in rows:\n",
    "        \n",
    "        if \"[\" in row:\n",
    "            for index, char in enumerate(row):\n",
    "                if (not (char == '[' or char == ']' or char == ' ')):\n",
    "                    stack_index = (index-1)//4 + 1\n",
    "                    if (str(stack_index) not in stacks):\n",
    "                        stacks[str(stack_index)] = deque([])\n",
    "                    stacks[str(stack_index)].appendleft(char)\n",
    "        elif 'move' in row:\n",
    "            row_split = row.split(' ')\n",
    "            from_stack = row_split[3]\n",
    "            to_stack = row_split[5]\n",
    "            quantity = row_split[1]\n",
    "            crates_to_move = []\n",
    "            for i in range(int(quantity)):\n",
    "                crates_to_move.append(stacks[from_stack].pop())\n",
    "            for i in range(int(quantity)):\n",
    "                stacks[to_stack].append(crates_to_move.pop())\n",
    "    \n",
    "    for i in range(len(stacks)):\n",
    "        stack_key = str(i + 1)\n",
    "        print(stack_key, stacks[stack_key][-1])\n",
    "                        \n",
    "            "
   ]
  },
  {
   "cell_type": "code",
   "execution_count": null,
   "id": "4e329137",
   "metadata": {},
   "outputs": [],
   "source": []
  }
 ],
 "metadata": {
  "kernelspec": {
   "display_name": "Python 3 (ipykernel)",
   "language": "python",
   "name": "python3"
  },
  "language_info": {
   "codemirror_mode": {
    "name": "ipython",
    "version": 3
   },
   "file_extension": ".py",
   "mimetype": "text/x-python",
   "name": "python",
   "nbconvert_exporter": "python",
   "pygments_lexer": "ipython3",
   "version": "3.9.12"
  }
 },
 "nbformat": 4,
 "nbformat_minor": 5
}

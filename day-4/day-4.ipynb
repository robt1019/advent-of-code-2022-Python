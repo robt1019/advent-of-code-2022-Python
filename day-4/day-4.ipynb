{
 "cells": [
  {
   "cell_type": "code",
   "execution_count": 13,
   "id": "45846772",
   "metadata": {},
   "outputs": [
    {
     "name": "stdout",
     "output_type": "stream",
     "text": [
      "2\n"
     ]
    }
   ],
   "source": [
    "with open('input.txt', encoding=\"utf-8\") as f:\n",
    "    read_data = f.read()\n",
    "    \n",
    "    score = 0\n",
    "        \n",
    "    for pair in read_data.splitlines():\n",
    "        [first, second] = pair.split(',')\n",
    "        [first_start, first_end] = list(map(int, first.split('-')))\n",
    "        [second_start, second_end] = list(map(int, second.split('-')))\n",
    "        \n",
    "        if (first_end - first_start) <= (second_end - second_start) and first_start >= second_start and first_end <= second_end or (second_end - second_start) <= (first_end - first_start) and second_start >= first_start and second_end <= first_end:\n",
    "            score += 1\n",
    "    \n",
    "    print(score)\n",
    "        \n",
    "        \n",
    "        \n",
    "        \n",
    "        \n",
    "    "
   ]
  },
  {
   "cell_type": "code",
   "execution_count": 27,
   "id": "9735b963",
   "metadata": {},
   "outputs": [
    {
     "name": "stdout",
     "output_type": "stream",
     "text": [
      "835\n"
     ]
    }
   ],
   "source": [
    "with open('input.txt', encoding=\"utf-8\") as f:\n",
    "    read_data = f.read()\n",
    "    \n",
    "    score = 0\n",
    "        \n",
    "    for pair in read_data.splitlines():\n",
    "        [first, second] = pair.split(',')\n",
    "        [first_start, first_end] = list(map(int, first.split('-')))\n",
    "        [second_start, second_end] = list(map(int, second.split('-')))\n",
    "        if not (first_end < second_start or second_end < first_start):\n",
    "            score += 1\n",
    "    \n",
    "    print(score)\n",
    "        \n",
    "        \n",
    "        \n",
    "        \n",
    "        \n",
    "    "
   ]
  },
  {
   "cell_type": "code",
   "execution_count": null,
   "id": "343e74dd",
   "metadata": {},
   "outputs": [],
   "source": []
  }
 ],
 "metadata": {
  "kernelspec": {
   "display_name": "Python 3 (ipykernel)",
   "language": "python",
   "name": "python3"
  },
  "language_info": {
   "codemirror_mode": {
    "name": "ipython",
    "version": 3
   },
   "file_extension": ".py",
   "mimetype": "text/x-python",
   "name": "python",
   "nbconvert_exporter": "python",
   "pygments_lexer": "ipython3",
   "version": "3.9.12"
  }
 },
 "nbformat": 4,
 "nbformat_minor": 5
}

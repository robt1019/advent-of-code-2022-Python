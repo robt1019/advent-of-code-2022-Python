{
 "cells": [
  {
   "cell_type": "code",
   "execution_count": 29,
   "id": "859a56ab",
   "metadata": {},
   "outputs": [
    {
     "name": "stdout",
     "output_type": "stream",
     "text": [
      "8039\n"
     ]
    }
   ],
   "source": [
    "\n",
    "def priority(char):\n",
    "    char_code = ord(char)\n",
    "    if char_code >= 97 and char_code <=122:\n",
    "        return char_code - 96\n",
    "    if char_code >= 65 and char_code <=90:\n",
    "        return char_code - 38\n",
    "\n",
    "with open('input.txt', encoding=\"utf-8\") as f:\n",
    "    read_data = f.read()\n",
    "    \n",
    "    total = 0\n",
    "    \n",
    "    bags = read_data.splitlines()\n",
    "    \n",
    "    for bag in bags:\n",
    "        \n",
    "        compartment_1 = set()\n",
    "        compartment_2 = set()\n",
    "        \n",
    "        for i in range(len(bag) // 2):\n",
    "            compartment_1.add(bag[i])\n",
    "        for i in range(len(bag) // 2, len(bag)):\n",
    "            compartment_2.add(bag[i])\n",
    "            \n",
    "        for char in compartment_1.intersection(compartment_2):\n",
    "            total += priority(char)\n",
    "            \n",
    "    print(total)\n",
    "            "
   ]
  },
  {
   "cell_type": "code",
   "execution_count": 48,
   "id": "c5d0ebb3",
   "metadata": {},
   "outputs": [
    {
     "name": "stdout",
     "output_type": "stream",
     "text": [
      "2510\n"
     ]
    }
   ],
   "source": [
    "import numpy as np\n",
    "\n",
    "def priority(char):\n",
    "    char_code = ord(char)\n",
    "    if char_code >= 97 and char_code <=122:\n",
    "        return char_code - 96\n",
    "    if char_code >= 65 and char_code <=90:\n",
    "        return char_code - 38\n",
    "\n",
    "with open('input.txt', encoding=\"utf-8\") as f:\n",
    "    read_data = f.read()\n",
    "    \n",
    "    total = 0\n",
    "    \n",
    "    bags = read_data.splitlines()\n",
    "    \n",
    "    grouped_bags = np.array_split(bags, len(bags) // 3)\n",
    "    \n",
    "    for group in grouped_bags:\n",
    "        \n",
    "        badge = (set(group[0]).intersection(set(group[1]).intersection(set(group[2]))))\n",
    "        \n",
    "        for char in badge:\n",
    "            total += priority(char)\n",
    "                \n",
    "    print(total)\n",
    "            "
   ]
  },
  {
   "cell_type": "code",
   "execution_count": null,
   "id": "152a175c",
   "metadata": {},
   "outputs": [],
   "source": []
  }
 ],
 "metadata": {
  "kernelspec": {
   "display_name": "Python 3 (ipykernel)",
   "language": "python",
   "name": "python3"
  },
  "language_info": {
   "codemirror_mode": {
    "name": "ipython",
    "version": 3
   },
   "file_extension": ".py",
   "mimetype": "text/x-python",
   "name": "python",
   "nbconvert_exporter": "python",
   "pygments_lexer": "ipython3",
   "version": "3.9.12"
  }
 },
 "nbformat": 4,
 "nbformat_minor": 5
}

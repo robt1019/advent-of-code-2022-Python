{
 "cells": [
  {
   "cell_type": "code",
   "execution_count": 90,
   "id": "738f7c82",
   "metadata": {},
   "outputs": [
    {
     "name": "stdout",
     "output_type": "stream",
     "text": [
      "1232307\n",
      "7268994\n"
     ]
    }
   ],
   "source": [
    "dirs = []\n",
    "\n",
    "def get_size(node):\n",
    "    if 'size' in node:\n",
    "        return int(node['size'])\n",
    "    \n",
    "    total = 0\n",
    "    \n",
    "    for child in node['children'].values():\n",
    "        dir_size = get_size(child)\n",
    "        total += dir_size\n",
    "    dirs.append(total)\n",
    "    return total\n",
    "            \n",
    "\n",
    "with open('input.txt', encoding=\"utf-8\") as f:\n",
    "    read_data = f.read()\n",
    "    \n",
    "    head = {'children': {}, 'parent': None}\n",
    "    current_dir = head\n",
    "    \n",
    "    for instruction in read_data.splitlines():\n",
    "        \n",
    "        if '$ cd' in instruction:\n",
    "            destination = instruction.split(' ')[2]\n",
    "            if destination == '..':\n",
    "                current_dir = current_dir['parent']\n",
    "            elif destination == '/':\n",
    "                current_dir = head\n",
    "            else:\n",
    "                if destination not in current_dir['children']:\n",
    "                    current_dir['children'][destination] = {'children': {}, 'parent': current_dir}\n",
    "                current_dir = current_dir['children'][destination]\n",
    "        elif 'dir' in instruction:\n",
    "            dir_name = instruction.split(' ')[1]\n",
    "            current_dir['children'][dir_name] = {'children': {}, 'parent': current_dir}\n",
    "        elif instruction != '$ ls':\n",
    "            [file_size, file_name] = instruction.split(' ')\n",
    "            current_dir['children'][file_name] = {'parent': current_dir, 'size': file_size}\n",
    "            \n",
    "    current_dir = head\n",
    "    \n",
    "    get_size(current_dir)\n",
    "    \n",
    "    answer1 = 0\n",
    "    \n",
    "    for dir in dirs:\n",
    "        if dir <= 100000:\n",
    "            answer1 += dir\n",
    "            \n",
    "    print(answer1)\n",
    "    \n",
    "    answer2 = 0\n",
    "    \n",
    "    dirs.sort()\n",
    "\n",
    "    current_available_space = 70000000 - current_size\n",
    "    \n",
    "    for dir in dirs:\n",
    "        if (current_available_space + dir) >= 30000000:\n",
    "            answer2 = dir\n",
    "            break\n",
    "            \n",
    "    print(answer2)\n",
    "    \n",
    "\n",
    "            \n",
    "            "
   ]
  }
 ],
 "metadata": {
  "kernelspec": {
   "display_name": "Python 3 (ipykernel)",
   "language": "python",
   "name": "python3"
  },
  "language_info": {
   "codemirror_mode": {
    "name": "ipython",
    "version": 3
   },
   "file_extension": ".py",
   "mimetype": "text/x-python",
   "name": "python",
   "nbconvert_exporter": "python",
   "pygments_lexer": "ipython3",
   "version": "3.9.12"
  }
 },
 "nbformat": 4,
 "nbformat_minor": 5
}

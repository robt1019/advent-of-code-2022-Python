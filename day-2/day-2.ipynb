{
 "cells": [
  {
   "cell_type": "code",
   "execution_count": 16,
   "id": "f9a74d41",
   "metadata": {},
   "outputs": [
    {
     "name": "stdout",
     "output_type": "stream",
     "text": [
      "12014\n"
     ]
    }
   ],
   "source": [
    "\n",
    "score_1 = {\n",
    "    'A': 1,\n",
    "    'B': 2,\n",
    "    'C': 3\n",
    "}\n",
    "\n",
    "score_2 = {\n",
    "    'X': 0,\n",
    "    'Y': 3,\n",
    "    'Z': 6\n",
    "}\n",
    "\n",
    "moves = {\n",
    "    'X': {\n",
    "        'A': 'C',\n",
    "        'B': 'A',\n",
    "        'C': 'B'\n",
    "    },\n",
    "    'Y': {\n",
    "        'A': 'A',\n",
    "        'B': 'B',\n",
    "        'C': 'C'\n",
    "    },\n",
    "    'Z': {\n",
    "        'A': 'B',\n",
    "        'B': 'C',\n",
    "        'C': 'A'\n",
    "    }\n",
    "}\n",
    "\n",
    "\n",
    "with open('input.txt', encoding=\"utf-8\") as f:\n",
    "    read_data = f.read()\n",
    "    \n",
    "    score = 0\n",
    "        \n",
    "    for move in read_data.splitlines():\n",
    "        [opponent_move, match_outcome] = move.split(' ')\n",
    "        \n",
    "        move = moves[match_outcome][opponent_move]\n",
    "        \n",
    "        score += score_1[move] + score_2[match_outcome]\n",
    "    \n",
    "    print(score)\n",
    "        \n",
    "        \n"
   ]
  },
  {
   "cell_type": "code",
   "execution_count": null,
   "id": "51e9503d",
   "metadata": {},
   "outputs": [],
   "source": []
  }
 ],
 "metadata": {
  "kernelspec": {
   "display_name": "Python 3 (ipykernel)",
   "language": "python",
   "name": "python3"
  },
  "language_info": {
   "codemirror_mode": {
    "name": "ipython",
    "version": 3
   },
   "file_extension": ".py",
   "mimetype": "text/x-python",
   "name": "python",
   "nbconvert_exporter": "python",
   "pygments_lexer": "ipython3",
   "version": "3.9.12"
  }
 },
 "nbformat": 4,
 "nbformat_minor": 5
}

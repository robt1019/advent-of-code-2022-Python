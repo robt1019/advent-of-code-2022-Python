{
 "cells": [
  {
   "cell_type": "code",
   "execution_count": 39,
   "id": "5b0dbca1",
   "metadata": {},
   "outputs": [
    {
     "name": "stdout",
     "output_type": "stream",
     "text": [
      "1909\n"
     ]
    }
   ],
   "source": [
    "from collections import deque\n",
    "\n",
    "def find_first_index(chars):\n",
    "    chars_to_check = deque([])\n",
    "    for index, char in enumerate(chars):\n",
    "        if index < 4:\n",
    "            chars_to_check.append(char)\n",
    "        else:\n",
    "            chars_to_check.popleft()\n",
    "            chars_to_check.append(char)\n",
    "            if len(set(chars_to_check)) == 4:\n",
    "                return index + 1\n",
    "\n",
    "with open('input.txt', encoding=\"utf-8\") as f:\n",
    "    print(find_first_index(f.read()))\n",
    "    \n"
   ]
  },
  {
   "cell_type": "code",
   "execution_count": 38,
   "id": "1fe731f6",
   "metadata": {},
   "outputs": [
    {
     "name": "stdout",
     "output_type": "stream",
     "text": [
      "3380\n"
     ]
    }
   ],
   "source": [
    "from collections import deque\n",
    "\n",
    "def find_first_index(chars):\n",
    "    chars_to_check = deque([])\n",
    "    for index, char in enumerate(chars):\n",
    "        if index < 14:\n",
    "            chars_to_check.append(char)\n",
    "        else:\n",
    "            chars_to_check.popleft()\n",
    "            chars_to_check.append(char)\n",
    "            if len(set(chars_to_check)) == 14:\n",
    "                return index + 1\n",
    "\n",
    "with open('input.txt', encoding=\"utf-8\") as f:\n",
    "    print(find_first_index(f.read()))\n",
    "    \n"
   ]
  },
  {
   "cell_type": "code",
   "execution_count": null,
   "id": "16ed61ee",
   "metadata": {},
   "outputs": [],
   "source": []
  }
 ],
 "metadata": {
  "kernelspec": {
   "display_name": "Python 3 (ipykernel)",
   "language": "python",
   "name": "python3"
  },
  "language_info": {
   "codemirror_mode": {
    "name": "ipython",
    "version": 3
   },
   "file_extension": ".py",
   "mimetype": "text/x-python",
   "name": "python",
   "nbconvert_exporter": "python",
   "pygments_lexer": "ipython3",
   "version": "3.9.12"
  }
 },
 "nbformat": 4,
 "nbformat_minor": 5
}

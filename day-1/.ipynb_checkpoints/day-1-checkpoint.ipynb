{
 "cells": [
  {
   "cell_type": "code",
   "execution_count": 16,
   "id": "207a4e6d",
   "metadata": {},
   "outputs": [
    {
     "ename": "SyntaxError",
     "evalue": "invalid syntax (1503059638.py, line 8)",
     "output_type": "error",
     "traceback": [
      "\u001b[0;36m  Input \u001b[0;32mIn [16]\u001b[0;36m\u001b[0m\n\u001b[0;31m    let max_cals = 0\u001b[0m\n\u001b[0m        ^\u001b[0m\n\u001b[0;31mSyntaxError\u001b[0m\u001b[0;31m:\u001b[0m invalid syntax\n"
     ]
    }
   ],
   "source": [
    "\n",
    "def line_to_int(line):\n",
    "    line.strip()\n",
    "    return int(line)\n",
    "\n",
    "with open('input.txt', encoding=\"utf-8\") as f:\n",
    "    read_data = f.read()\n",
    "    \n",
    "    max_cals = 0\n",
    "    \n",
    "    for elf_bag in read_data.split('\\n\\n'):\n",
    "        elf_sum = sum(list(map(int, elf_bag.splitlines())))\n",
    "        if elf_sum > max_cals:\n",
    "            max_cals = elf_sum\n",
    "    \n",
    "    print(max_cals)"
   ]
  },
  {
   "cell_type": "code",
   "execution_count": null,
   "id": "4e5eac9e",
   "metadata": {},
   "outputs": [],
   "source": []
  }
 ],
 "metadata": {
  "kernelspec": {
   "display_name": "Python 3 (ipykernel)",
   "language": "python",
   "name": "python3"
  },
  "language_info": {
   "codemirror_mode": {
    "name": "ipython",
    "version": 3
   },
   "file_extension": ".py",
   "mimetype": "text/x-python",
   "name": "python",
   "nbconvert_exporter": "python",
   "pygments_lexer": "ipython3",
   "version": "3.9.12"
  }
 },
 "nbformat": 4,
 "nbformat_minor": 5
}
